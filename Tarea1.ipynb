{
 "cells": [
  {
   "cell_type": "code",
   "execution_count": 9,
   "outputs": [],
   "source": [
    "import spacy\n",
    "from itertools import tee, islice, chain"
   ],
   "metadata": {
    "collapsed": false,
    "pycharm": {
     "name": "#%%\n"
    }
   }
  },
  {
   "cell_type": "code",
   "execution_count": 38,
   "outputs": [],
   "source": [
    "'''\n",
    "function that receive a iterable (list) and return the actual, before and after\n",
    "'''\n",
    "def previous_actual_next_iterable(l):\n",
    "    prevs, items, nexts = tee(l, 3)\n",
    "    prevs = chain([None], prevs)\n",
    "    nexts = chain(islice(nexts, 1, None), [None])\n",
    "    return zip(prevs, items, nexts)"
   ],
   "metadata": {
    "collapsed": false,
    "pycharm": {
     "name": "#%%\n"
    }
   }
  },
  {
   "cell_type": "code",
   "execution_count": 39,
   "outputs": [],
   "source": [
    "rawText = \"El acuario es chiquito chiquito. Hay otro más grande pero ... fuera del ... de la ciudad, y no teníamos ganas de alejarnos mucho. Hay una sección con ... con pececitos, cangrejos y bichos por el estilo, todos de la zona. Y otra sección con especies recogidas, ya sea porque los ... las abandonaron, o porque están lesionadas y no pueden ser devueltas al ecosistema. Entre ellas había una tortuga ... una tortuga de agua, grande, tendría sus 50 cm de ... caparazón, y la pobre  era  cieguita.  También  había  serpientes  y  lagartos,  y  uno  podía  interactuar  con  ellos.  Maddalena  dijo  “no, gracias”, pero yo dije “siiii” a todo, así que me vi envuelta por serpientes y lagartos. Maddalena me tomó varias fotos con su teléfono, y le di mi correo para que me las mande, así que estoy esperando esas fotos. Salimos del acuario, nos despedimos para siempre con un abrazo, y me volví al ... hotel. No tenía mucha idea como volver, pero el ... la intuición me llevó derechito y llegué cerca de las 4.00. Como era bien temprano, y no tenía ganas de salir otra vez (hacía muucho calor) me puse el traje de baño y bajé a la piscina. Me bañé un ratito, y luego, aprovechando el lindo día, me quedé un rato disfrutando el sol, cuidando de no quedarme dormida.\""
   ],
   "metadata": {
    "collapsed": false,
    "pycharm": {
     "name": "#%%\n"
    }
   }
  },
  {
   "cell_type": "code",
   "execution_count": 40,
   "outputs": [],
   "source": [
    "#Spacy configuration\n",
    "#python3 -m spacy download en_core_web_sm #in terminal\n",
    "spc = spacy.load(\"es_core_news_sm\")"
   ],
   "metadata": {
    "collapsed": false,
    "pycharm": {
     "name": "#%%\n"
    }
   }
  },
  {
   "cell_type": "code",
   "execution_count": 45,
   "outputs": [],
   "source": [
    "text = spc(\" \".join(rawText.split()))"
   ],
   "metadata": {
    "collapsed": false,
    "pycharm": {
     "name": "#%%\n"
    }
   }
  },
  {
   "cell_type": "code",
   "execution_count": 46,
   "outputs": [],
   "source": [
    "'''\n",
    "function that iterate with all fields from spacy obtaining before, after and actual elements from every iteration conditioning with some predicates like\n",
    "    - before and after element DET type and '...' text\n",
    "    - before and after element ADP type and '...' text\n",
    "    - before and after element DET and PRON type respectively and '...' text\n",
    "    - just '...' text\n",
    "    - actual and after element are equals\n",
    "'''\n",
    "def generate(text):\n",
    "    o = [text[0]]\n",
    "\n",
    "    for before, actual, after in previous_actual_next_iterable(text):\n",
    "\n",
    "        if before is not None and after is not None:\n",
    "            #print(before, before.pos_ , actual, after, after.pos_)\n",
    "            if before.pos_ == \"DET\" and after.pos_ == \"DET\" and actual.text == \"...\":\n",
    "                o.pop()\n",
    "                continue\n",
    "\n",
    "            if before.pos_ == \"ADP\" and after.pos_ == \"ADP\" and actual.text == \"...\":\n",
    "                o.pop()\n",
    "                continue\n",
    "\n",
    "            if before.pos_ == \"DET\" and after.pos_ == \"PRON\" and actual.text == \"...\":\n",
    "                o.pop()\n",
    "                continue\n",
    "\n",
    "            if actual.text == \"...\":\n",
    "                continue\n",
    "\n",
    "            if actual.text == after.text:\n",
    "                continue\n",
    "\n",
    "            o.append(actual)\n",
    "\n",
    "    o.append(text[-1:])\n",
    "\n",
    "    s = \"\"\n",
    "    for i in o:\n",
    "        s += (str(i.text) + \" \")\n",
    "\n",
    "    return s.replace(\" . \", \". \").replace(\" , \", \", \")"
   ],
   "metadata": {
    "collapsed": false,
    "pycharm": {
     "name": "#%%\n"
    }
   }
  },
  {
   "cell_type": "code",
   "execution_count": 47,
   "outputs": [],
   "source": [
    "string = generate(text)"
   ],
   "metadata": {
    "collapsed": false,
    "pycharm": {
     "name": "#%%\n"
    }
   }
  },
  {
   "cell_type": "code",
   "execution_count": 48,
   "outputs": [
    {
     "data": {
      "text/plain": "'El acuario es chiquito. Hay otro más grande pero fuera de la ciudad, y no teníamos ganas de alejarnos mucho. Hay una sección con pececitos, cangrejos y bichos por el estilo, todos de la zona. Y otra sección con especies recogidas, ya sea porque las abandonaron, o porque están lesionadas y no pueden ser devueltas al ecosistema. Entre ellas había una tortuga una tortuga de agua, grande, tendría sus 50 cm de caparazón, y la pobre era cieguita. También había serpientes y lagartos, y uno podía interactuar con ellos. Maddalena dijo “ no, gracias ”, pero yo dije “ siiii ” a todo, así que me vi envuelta por serpientes y lagartos. Maddalena me tomó varias fotos con su teléfono, y le di mi correo para que me las mande, así que estoy esperando esas fotos. Salimos del acuario, nos despedimos para siempre con un abrazo, y me volví al hotel. No tenía mucha idea como volver, pero la intuición me llevó derechito y llegué cerca de las 4.00. Como era bien temprano, y no tenía ganas de salir otra vez ( hacía muucho calor ) me puse el traje de baño y bajé a la piscina. Me bañé un ratito, y luego, aprovechando el lindo día, me quedé un rato disfrutando el sol, cuidando de no quedarme dormida. '"
     },
     "execution_count": 48,
     "metadata": {},
     "output_type": "execute_result"
    }
   ],
   "source": [
    "string"
   ],
   "metadata": {
    "collapsed": false,
    "pycharm": {
     "name": "#%%\n"
    }
   }
  }
 ],
 "metadata": {
  "kernelspec": {
   "display_name": "Python 3",
   "language": "python",
   "name": "python3"
  },
  "language_info": {
   "codemirror_mode": {
    "name": "ipython",
    "version": 2
   },
   "file_extension": ".py",
   "mimetype": "text/x-python",
   "name": "python",
   "nbconvert_exporter": "python",
   "pygments_lexer": "ipython2",
   "version": "2.7.6"
  }
 },
 "nbformat": 4,
 "nbformat_minor": 0
}