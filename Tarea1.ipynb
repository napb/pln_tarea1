{
 "cells": [
  {
   "cell_type": "code",
   "execution_count": 263,
   "outputs": [],
   "source": [
    "import spacy"
   ],
   "metadata": {
    "collapsed": false,
    "pycharm": {
     "name": "#%%\n"
    }
   }
  },
  {
   "cell_type": "code",
   "execution_count": null,
   "outputs": [],
   "source": [
    "'''\n",
    "queda\n",
    "- ver como puedo quitar los espacios entre los puntos y las comas algo como ' . ' o ' , ' para que quede '. ' o ', ' respectivamente\n",
    "- en vez de lista, que retorne un string\n",
    "- poner mas bonito el codigo\n",
    "'''"
   ],
   "metadata": {
    "collapsed": false,
    "pycharm": {
     "name": "#%%\n"
    }
   }
  },
  {
   "cell_type": "code",
   "execution_count": 264,
   "outputs": [],
   "source": [
    "rawText = \"El acuario es chiquito chiquito. Hay otro más grande pero ... fuera del ... de la ciudad, y no teníamos ganas de alejarnos mucho. Hay una sección con ... con pececitos, cangrejos y bichos por el estilo, todos de la zona. Y otra sección con especies recogidas, ya sea porque los ... las abandonaron, o porque están lesionadas y no pueden ser devueltas al ecosistema. Entre ellas había una tortuga ... una tortuga de agua, grande, tendría sus 50 cm de ... caparazón, y la pobre  era  cieguita.  También  había  serpientes  y  lagartos,  y  uno  podía  interactuar  con  ellos.  Maddalena  dijo  “no, gracias”, pero yo dije “siiii” a todo, así que me vi envuelta por serpientes y lagartos. Maddalena me tomó varias fotos con su teléfono, y le di mi correo para que me las mande, así que estoy esperando esas fotos. Salimos del acuario, nos despedimos para siempre con un abrazo, y me volví al ... hotel. No tenía mucha idea como volver, pero el ... la intuición me llevó derechito y llegué cerca de las 4.00. Como era bien temprano, y no tenía ganas de salir otra vez (hacía muucho calor) me puse el traje de baño y bajé a la piscina. Me bañé un ratito, y luego, aprovechando el lindo día, me quedé un rato disfrutando el sol, cuidando de no quedarme dormida.\""
   ],
   "metadata": {
    "collapsed": false,
    "pycharm": {
     "name": "#%%\n"
    }
   }
  },
  {
   "cell_type": "code",
   "execution_count": 285,
   "outputs": [],
   "source": [
    "#Spacy configuration\n",
    "spc = spacy.load(\"es_core_news_sm\")"
   ],
   "metadata": {
    "collapsed": false,
    "pycharm": {
     "name": "#%%\n"
    }
   }
  },
  {
   "cell_type": "code",
   "execution_count": 286,
   "outputs": [],
   "source": [
    "text = spc(\" \".join(rawText.split()))"
   ],
   "metadata": {
    "collapsed": false,
    "pycharm": {
     "name": "#%%\n"
    }
   }
  },
  {
   "cell_type": "code",
   "execution_count": 294,
   "outputs": [
    {
     "data": {
      "text/plain": "."
     },
     "execution_count": 294,
     "metadata": {},
     "output_type": "execute_result"
    }
   ],
   "source": [
    "text[-1:]"
   ],
   "metadata": {
    "collapsed": false,
    "pycharm": {
     "name": "#%%\n"
    }
   }
  },
  {
   "cell_type": "code",
   "execution_count": 295,
   "outputs": [],
   "source": [
    "def generate(text):\n",
    "    o = [text[0]]\n",
    "\n",
    "    for before, actual, after in previous_and_next(text):\n",
    "\n",
    "        if before is not None and after is not None:\n",
    "            #print(before, before.pos_ , actual, after, after.pos_)\n",
    "            if before.pos_ == \"DET\" and after.pos_ == \"DET\" and actual.text == \"...\":\n",
    "                o.pop()\n",
    "                continue\n",
    "\n",
    "            if before.pos_ == \"ADP\" and after.pos_ == \"ADP\" and actual.text == \"...\":\n",
    "                o.pop()\n",
    "                continue\n",
    "\n",
    "            if before.pos_ == \"DET\" and after.pos_ == \"PRON\" and actual.text == \"...\":\n",
    "                o.pop()\n",
    "                continue\n",
    "\n",
    "            if actual.text == \"...\":\n",
    "                continue\n",
    "\n",
    "            o.append(actual)\n",
    "\n",
    "    o.append(text[-1:])\n",
    "    return o"
   ],
   "metadata": {
    "collapsed": false,
    "pycharm": {
     "name": "#%%\n"
    }
   }
  },
  {
   "cell_type": "code",
   "execution_count": 296,
   "outputs": [],
   "source": [
    "lista = generate(text)"
   ],
   "metadata": {
    "collapsed": false,
    "pycharm": {
     "name": "#%%\n"
    }
   }
  },
  {
   "cell_type": "code",
   "execution_count": 297,
   "outputs": [
    {
     "data": {
      "text/plain": "[El,\n acuario,\n es,\n chiquito,\n chiquito,\n .,\n Hay,\n otro,\n más,\n grande,\n pero,\n fuera,\n de,\n la,\n ciudad,\n ,,\n y,\n no,\n teníamos,\n ganas,\n de,\n alejarnos,\n mucho,\n .,\n Hay,\n una,\n sección,\n con,\n pececitos,\n ,,\n cangrejos,\n y,\n bichos,\n por,\n el,\n estilo,\n ,,\n todos,\n de,\n la,\n zona,\n .,\n Y,\n otra,\n sección,\n con,\n especies,\n recogidas,\n ,,\n ya,\n sea,\n porque,\n las,\n abandonaron,\n ,,\n o,\n porque,\n están,\n lesionadas,\n y,\n no,\n pueden,\n ser,\n devueltas,\n al,\n ecosistema,\n .,\n Entre,\n ellas,\n había,\n una,\n tortuga,\n una,\n tortuga,\n de,\n agua,\n ,,\n grande,\n ,,\n tendría,\n sus,\n 50,\n cm,\n de,\n caparazón,\n ,,\n y,\n la,\n pobre,\n era,\n cieguita,\n .,\n También,\n había,\n serpientes,\n y,\n lagartos,\n ,,\n y,\n uno,\n podía,\n interactuar,\n con,\n ellos,\n .,\n Maddalena,\n dijo,\n “,\n no,\n ,,\n gracias,\n ”,\n ,,\n pero,\n yo,\n dije,\n “,\n siiii,\n ”,\n a,\n todo,\n ,,\n así,\n que,\n me,\n vi,\n envuelta,\n por,\n serpientes,\n y,\n lagartos,\n .,\n Maddalena,\n me,\n tomó,\n varias,\n fotos,\n con,\n su,\n teléfono,\n ,,\n y,\n le,\n di,\n mi,\n correo,\n para,\n que,\n me,\n las,\n mande,\n ,,\n así,\n que,\n estoy,\n esperando,\n esas,\n fotos,\n .,\n Salimos,\n del,\n acuario,\n ,,\n nos,\n despedimos,\n para,\n siempre,\n con,\n un,\n abrazo,\n ,,\n y,\n me,\n volví,\n al,\n hotel,\n .,\n No,\n tenía,\n mucha,\n idea,\n como,\n volver,\n ,,\n pero,\n la,\n intuición,\n me,\n llevó,\n derechito,\n y,\n llegué,\n cerca,\n de,\n las,\n 4.00,\n .,\n Como,\n era,\n bien,\n temprano,\n ,,\n y,\n no,\n tenía,\n ganas,\n de,\n salir,\n otra,\n vez,\n (,\n hacía,\n muucho,\n calor,\n ),\n me,\n puse,\n el,\n traje,\n de,\n baño,\n y,\n bajé,\n a,\n la,\n piscina,\n .,\n Me,\n bañé,\n un,\n ratito,\n ,,\n y,\n luego,\n ,,\n aprovechando,\n el,\n lindo,\n día,\n ,,\n me,\n quedé,\n un,\n rato,\n disfrutando,\n el,\n sol,\n ,,\n cuidando,\n de,\n no,\n quedarme,\n dormida,\n .]"
     },
     "execution_count": 297,
     "metadata": {},
     "output_type": "execute_result"
    }
   ],
   "source": [
    "lista"
   ],
   "metadata": {
    "collapsed": false,
    "pycharm": {
     "name": "#%%\n"
    }
   }
  },
  {
   "cell_type": "code",
   "execution_count": 182,
   "outputs": [],
   "source": [
    "from itertools import tee, islice, chain\n",
    "\n",
    "def previous_and_next(some_iterable):\n",
    "    prevs, items, nexts = tee(some_iterable, 3)\n",
    "    prevs = chain([None], prevs)\n",
    "    nexts = chain(islice(nexts, 1, None), [None])\n",
    "    return zip(prevs, items, nexts)"
   ],
   "metadata": {
    "collapsed": false,
    "pycharm": {
     "name": "#%%\n"
    }
   }
  },
  {
   "cell_type": "code",
   "execution_count": null,
   "outputs": [],
   "source": [],
   "metadata": {
    "collapsed": false,
    "pycharm": {
     "name": "#%%\n"
    }
   }
  },
  {
   "cell_type": "code",
   "execution_count": 275,
   "outputs": [],
   "source": [
    "o = []\n",
    "for before, actual, after in previous_and_next(text):\n",
    "\n",
    "    if before is not None and after is not None:\n",
    "        #print(before, before.pos_ , actual, after, after.pos_)\n",
    "        if before.pos_ == \"DET\" and after.pos_ == \"DET\" and actual.text == \"...\":\n",
    "            o.pop()\n",
    "            continue\n",
    "\n",
    "        if before.pos_ == \"ADP\" and after.pos_ == \"ADP\" and actual.text == \"...\":\n",
    "            o.pop()\n",
    "            continue\n",
    "\n",
    "        if before.pos_ == \"DET\" and after.pos_ == \"PRON\" and actual.text == \"...\":\n",
    "            o.pop()\n",
    "            continue\n",
    "\n",
    "        if actual.text == \"...\":\n",
    "            continue\n",
    "\n",
    "        o.append(actual)"
   ],
   "metadata": {
    "collapsed": false,
    "pycharm": {
     "name": "#%%\n"
    }
   }
  },
  {
   "cell_type": "code",
   "execution_count": 280,
   "outputs": [],
   "source": [
    "s = \"\"\n",
    "for i in enumerate(o):\n",
    "\n",
    "    if\n",
    "\n",
    "    s += (str(i) + \" \")"
   ],
   "metadata": {
    "collapsed": false,
    "pycharm": {
     "name": "#%%\n"
    }
   }
  },
  {
   "cell_type": "code",
   "execution_count": 281,
   "outputs": [
    {
     "data": {
      "text/plain": "'acuario es chiquito chiquito . Hay otro más grande pero fuera de la ciudad , y no teníamos ganas de alejarnos mucho . Hay una sección con pececitos , cangrejos y bichos por el estilo , todos de la zona . Y otra sección con especies recogidas , ya sea porque las abandonaron , o porque están lesionadas y no pueden ser devueltas al ecosistema . Entre ellas había una tortuga una tortuga de agua , grande , tendría sus 50 cm de caparazón , y la pobre era cieguita . También había serpientes y lagartos , y uno podía interactuar con ellos . Maddalena dijo “ no , gracias ” , pero yo dije “ siiii ” a todo , así que me vi envuelta por serpientes y lagartos . Maddalena me tomó varias fotos con su teléfono , y le di mi correo para que me las mande , así que estoy esperando esas fotos . Salimos del acuario , nos despedimos para siempre con un abrazo , y me volví al hotel . No tenía mucha idea como volver , pero la intuición me llevó derechito y llegué cerca de las 4.00 . Como era bien temprano , y no tenía ganas de salir otra vez ( hacía muucho calor ) me puse el traje de baño y bajé a la piscina . Me bañé un ratito , y luego , aprovechando el lindo día , me quedé un rato disfrutando el sol , cuidando de no quedarme dormida '"
     },
     "execution_count": 281,
     "metadata": {},
     "output_type": "execute_result"
    }
   ],
   "source": [
    "s"
   ],
   "metadata": {
    "collapsed": false,
    "pycharm": {
     "name": "#%%\n"
    }
   }
  },
  {
   "cell_type": "code",
   "execution_count": null,
   "outputs": [],
   "source": [],
   "metadata": {
    "collapsed": false,
    "pycharm": {
     "name": "#%%\n"
    }
   }
  }
 ],
 "metadata": {
  "kernelspec": {
   "display_name": "Python 3",
   "language": "python",
   "name": "python3"
  },
  "language_info": {
   "codemirror_mode": {
    "name": "ipython",
    "version": 2
   },
   "file_extension": ".py",
   "mimetype": "text/x-python",
   "name": "python",
   "nbconvert_exporter": "python",
   "pygments_lexer": "ipython2",
   "version": "2.7.6"
  }
 },
 "nbformat": 4,
 "nbformat_minor": 0
}